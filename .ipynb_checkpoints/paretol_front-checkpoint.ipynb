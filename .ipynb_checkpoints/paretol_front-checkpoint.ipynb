{
 "cells": [
  {
   "cell_type": "code",
   "execution_count": 1,
   "id": "4c74d26c",
   "metadata": {},
   "outputs": [
    {
     "name": "stdout",
     "output_type": "stream",
     "text": [
      "Requirement already satisfied: pymoo==0.6 in /home/nicksung/miniconda3/envs/pymoo/lib/python3.10/site-packages (0.6.0)\n",
      "Requirement already satisfied: svgpath2mpl in /home/nicksung/miniconda3/envs/pymoo/lib/python3.10/site-packages (1.0.0)\n",
      "Requirement already satisfied: numpy>=1.15 in /home/nicksung/miniconda3/envs/pymoo/lib/python3.10/site-packages (from pymoo==0.6) (1.25.2)\n",
      "Requirement already satisfied: scipy>=1.1 in /home/nicksung/miniconda3/envs/pymoo/lib/python3.10/site-packages (from pymoo==0.6) (1.11.2)\n",
      "Requirement already satisfied: matplotlib>=3 in /home/nicksung/miniconda3/envs/pymoo/lib/python3.10/site-packages (from pymoo==0.6) (3.7.2)\n",
      "Requirement already satisfied: autograd>=1.4 in /home/nicksung/miniconda3/envs/pymoo/lib/python3.10/site-packages (from pymoo==0.6) (1.6.2)\n",
      "Requirement already satisfied: cma==3.2.2 in /home/nicksung/miniconda3/envs/pymoo/lib/python3.10/site-packages (from pymoo==0.6) (3.2.2)\n",
      "Requirement already satisfied: alive-progress in /home/nicksung/miniconda3/envs/pymoo/lib/python3.10/site-packages (from pymoo==0.6) (3.1.4)\n",
      "Requirement already satisfied: dill in /home/nicksung/miniconda3/envs/pymoo/lib/python3.10/site-packages (from pymoo==0.6) (0.3.7)\n",
      "Requirement already satisfied: Deprecated in /home/nicksung/miniconda3/envs/pymoo/lib/python3.10/site-packages (from pymoo==0.6) (1.2.14)\n",
      "Requirement already satisfied: future>=0.15.2 in /home/nicksung/miniconda3/envs/pymoo/lib/python3.10/site-packages (from autograd>=1.4->pymoo==0.6) (0.18.3)\n",
      "Requirement already satisfied: contourpy>=1.0.1 in /home/nicksung/miniconda3/envs/pymoo/lib/python3.10/site-packages (from matplotlib>=3->pymoo==0.6) (1.0.5)\n",
      "Requirement already satisfied: cycler>=0.10 in /home/nicksung/miniconda3/envs/pymoo/lib/python3.10/site-packages (from matplotlib>=3->pymoo==0.6) (0.11.0)\n",
      "Requirement already satisfied: fonttools>=4.22.0 in /home/nicksung/miniconda3/envs/pymoo/lib/python3.10/site-packages (from matplotlib>=3->pymoo==0.6) (4.25.0)\n",
      "Requirement already satisfied: kiwisolver>=1.0.1 in /home/nicksung/miniconda3/envs/pymoo/lib/python3.10/site-packages (from matplotlib>=3->pymoo==0.6) (1.4.4)\n",
      "Requirement already satisfied: packaging>=20.0 in /home/nicksung/miniconda3/envs/pymoo/lib/python3.10/site-packages (from matplotlib>=3->pymoo==0.6) (23.1)\n",
      "Requirement already satisfied: pillow>=6.2.0 in /home/nicksung/miniconda3/envs/pymoo/lib/python3.10/site-packages (from matplotlib>=3->pymoo==0.6) (9.4.0)\n",
      "Requirement already satisfied: pyparsing<3.1,>=2.3.1 in /home/nicksung/miniconda3/envs/pymoo/lib/python3.10/site-packages (from matplotlib>=3->pymoo==0.6) (3.0.9)\n",
      "Requirement already satisfied: python-dateutil>=2.7 in /home/nicksung/miniconda3/envs/pymoo/lib/python3.10/site-packages (from matplotlib>=3->pymoo==0.6) (2.8.2)\n",
      "Requirement already satisfied: about-time==4.2.1 in /home/nicksung/miniconda3/envs/pymoo/lib/python3.10/site-packages (from alive-progress->pymoo==0.6) (4.2.1)\n",
      "Requirement already satisfied: grapheme==0.6.0 in /home/nicksung/miniconda3/envs/pymoo/lib/python3.10/site-packages (from alive-progress->pymoo==0.6) (0.6.0)\n",
      "Requirement already satisfied: wrapt<2,>=1.10 in /home/nicksung/miniconda3/envs/pymoo/lib/python3.10/site-packages (from Deprecated->pymoo==0.6) (1.15.0)\n",
      "Requirement already satisfied: six>=1.5 in /home/nicksung/miniconda3/envs/pymoo/lib/python3.10/site-packages (from python-dateutil>=2.7->matplotlib>=3->pymoo==0.6) (1.16.0)\n",
      "fatal: destination path 'MOOCP' already exists and is not an empty directory.\n"
     ]
    }
   ],
   "source": [
    "#We start by installing libraries and importing some supporting code from a Github repository which will be used for linkage optimization\n",
    "!pip install pymoo==0.6 svgpath2mpl\n",
    "!git clone https://github.com/ahnobari/MOOCP.git"
   ]
  },
  {
   "cell_type": "code",
   "execution_count": 2,
   "id": "0a546f6d",
   "metadata": {},
   "outputs": [],
   "source": [
    "import numpy as np\n",
    "import matplotlib.pyplot as plt\n",
    "import pymoo\n",
    "import svgpath2mpl\n",
    "# Utiliies for working with linkages (DeCoDE Lab)\n",
    "from MOOCP.linkage_utils import *\n",
    "\n",
    "# Other modules\n",
    "import json\n",
    "from IPython.display import HTML\n",
    "import matplotlib.animation as animation\n",
    "from scipy.optimize import minimize"
   ]
  },
  {
   "cell_type": "code",
   "execution_count": 3,
   "id": "40be12a6",
   "metadata": {},
   "outputs": [],
   "source": [
    "# Get target curve 0 and plot\n",
    "target_index = 5\n",
    "\n",
    "# Initialize an empty list to store target curves\n",
    "target_curves = []\n",
    "\n",
    "# Loop to read 6 CSV files and store data in target_curves list\n",
    "for i in range(6):\n",
    "    # Load data from each CSV file and append it to the list\n",
    "    target_curves.append(np.loadtxt('./data/%i.csv'%(i),delimiter=','))\n",
    "\n",
    "\n",
    "target_pc = np.array(target_curves[target_index])"
   ]
  },
  {
   "cell_type": "code",
   "execution_count": 4,
   "id": "f79abca6",
   "metadata": {},
   "outputs": [],
   "source": [
    "result_x = []\n",
    "file_path = './results/{}.csv'.format(target_index)\n",
    "\n",
    "# Open the CSV file\n",
    "with open(file_path, 'r') as csvfile:\n",
    "    # Create a CSV reader\n",
    "    csv_reader = csv.reader(csvfile)\n",
    "    \n",
    "    # Iterate over each row in the CSV file\n",
    "    for row in csv_reader:\n",
    "        result_x.append(row)"
   ]
  },
  {
   "cell_type": "code",
   "execution_count": 5,
   "id": "f7d5cc58",
   "metadata": {},
   "outputs": [],
   "source": [
    "result_x = [[float(value) for value in sublist] for sublist in result_x]"
   ]
  },
  {
   "cell_type": "code",
   "execution_count": 6,
   "id": "b4e7de3b",
   "metadata": {},
   "outputs": [],
   "source": [
    "output_CD_mat = []\n",
    "for x in result_x: \n",
    "    C, x0, fixed_nodes, motor, target  = from_1D_representation(x)\n",
    "    valid, CD, mat, _ = evaluate_mechanism(C,x0,fixed_nodes, motor, target_pc, idx=target, device='cpu',timesteps=2000)\n",
    "    output_CD_mat.append([CD, mat])\n",
    "    "
   ]
  },
  {
   "cell_type": "code",
   "execution_count": 7,
   "id": "9341d637",
   "metadata": {},
   "outputs": [],
   "source": [
    "result_x = []\n",
    "file_path = './results_GD/{}_CD.csv'.format(target_index)\n",
    "\n",
    "# Open the CSV file\n",
    "with open(file_path, 'r') as csvfile:\n",
    "    # Create a CSV reader\n",
    "    csv_reader = csv.reader(csvfile)\n",
    "    \n",
    "    # Iterate over each row in the CSV file\n",
    "    for row in csv_reader:\n",
    "        result_x.append(row)\n",
    "result_x = [[float(value) for value in sublist] for sublist in result_x]"
   ]
  },
  {
   "cell_type": "code",
   "execution_count": 8,
   "id": "a2dd876d",
   "metadata": {},
   "outputs": [],
   "source": [
    "for x in result_x: \n",
    "    C, x0, fixed_nodes, motor, target  = from_1D_representation(x)\n",
    "    valid, CD, mat, _ = evaluate_mechanism(C,x0,fixed_nodes, motor, target_pc, idx=target, device='cpu',timesteps=2000)\n",
    "    output_CD_mat.append([CD, mat])\n",
    "    "
   ]
  },
  {
   "cell_type": "code",
   "execution_count": 9,
   "id": "5e5c529c",
   "metadata": {},
   "outputs": [],
   "source": [
    "result_x = []\n",
    "file_path = './results_GD/{}_mat.csv'.format(target_index)\n",
    "\n",
    "# Open the CSV file\n",
    "with open(file_path, 'r') as csvfile:\n",
    "    # Create a CSV reader\n",
    "    csv_reader = csv.reader(csvfile)\n",
    "    \n",
    "    # Iterate over each row in the CSV file\n",
    "    for row in csv_reader:\n",
    "        result_x.append(row)\n",
    "result_x = [[float(value) for value in sublist] for sublist in result_x]"
   ]
  },
  {
   "cell_type": "code",
   "execution_count": 10,
   "id": "d0934063",
   "metadata": {},
   "outputs": [],
   "source": [
    "for x in result_x: \n",
    "    C, x0, fixed_nodes, motor, target  = from_1D_representation(x)\n",
    "    valid, CD, mat, _ = evaluate_mechanism(C,x0,fixed_nodes, motor, target_pc, idx=target, device='cpu',timesteps=2000)\n",
    "    output_CD_mat.append([CD, mat])\n",
    "    "
   ]
  },
  {
   "cell_type": "code",
   "execution_count": 11,
   "id": "98f3c3da",
   "metadata": {
    "scrolled": true
   },
   "outputs": [
    {
     "data": {
      "text/plain": [
       "array([[0.05136629, 1.07405077],\n",
       "       [0.05366746, 1.04518415],\n",
       "       [0.07209867, 0.9432313 ],\n",
       "       [0.05759927, 1.02000003],\n",
       "       [0.07528866, 0.93225588],\n",
       "       [0.04491348, 1.11324553],\n",
       "       [0.07778043, 0.92085962],\n",
       "       [0.01548068, 1.43748844],\n",
       "       [0.0598681 , 0.99904476],\n",
       "       [0.0150668 , 2.57002509],\n",
       "       [0.04832383, 1.10794453],\n",
       "       [0.01221954, 3.51308191],\n",
       "       [0.05712337, 1.0365306 ],\n",
       "       [0.02060752, 1.40795459],\n",
       "       [0.05159982, 1.06385873],\n",
       "       [0.0788263 , 0.91553576],\n",
       "       [0.07253333, 0.9418367 ],\n",
       "       [0.05299769, 1.05540988],\n",
       "       [0.09008554, 0.83042794],\n",
       "       [0.06551774, 0.97558986],\n",
       "       [0.04859901, 1.09475143],\n",
       "       [0.04969445, 1.08585449],\n",
       "       [0.03806316, 1.14723594],\n",
       "       [0.05868658, 1.01367107],\n",
       "       [0.07995186, 0.84540813],\n",
       "       [0.02331185, 1.16094784],\n",
       "       [0.05138006, 1.09630741],\n",
       "       [0.0532629 , 1.07902761],\n",
       "       [0.04901693, 1.22148277],\n",
       "       [0.05728959, 1.09785816],\n",
       "       [0.06050411, 0.90397342],\n",
       "       [0.0493854 , 1.23061085],\n",
       "       [0.06367619, 1.03993434],\n",
       "       [0.03703496, 1.50468055],\n",
       "       [0.07193682, 1.07014062],\n",
       "       [0.01794487, 2.11864212],\n",
       "       [0.04317106, 1.13392824],\n",
       "       [0.02298616, 2.38531634],\n",
       "       [0.05628182, 1.0483164 ],\n",
       "       [0.0345944 , 1.40861876],\n",
       "       [0.05103308, 1.08822893],\n",
       "       [0.0440697 , 1.0441357 ],\n",
       "       [0.04778349, 1.35489272],\n",
       "       [0.05544623, 1.10238115],\n",
       "       [0.07886057, 0.87999041],\n",
       "       [0.06551774, 0.97558986],\n",
       "       [0.05033992, 1.54403286],\n",
       "       [0.0408888 , 1.16076455],\n",
       "       [0.03731208, 1.15848802],\n",
       "       [0.0508869 , 1.15111449],\n",
       "       [0.07995186, 0.84540813],\n",
       "       [0.02175169, 1.1416281 ],\n",
       "       [0.05136629, 1.07405077],\n",
       "       [0.05366746, 1.04518415],\n",
       "       [0.07209867, 0.9432313 ],\n",
       "       [0.05759927, 1.02000003],\n",
       "       [0.07528866, 0.93225588],\n",
       "       [0.04491348, 1.11324553],\n",
       "       [0.07778043, 0.92085962],\n",
       "       [0.01548068, 1.43748844],\n",
       "       [0.0598681 , 0.99904476],\n",
       "       [0.0150668 , 2.57002509],\n",
       "       [0.04832383, 1.10794453],\n",
       "       [0.01221954, 3.51308191],\n",
       "       [0.05712337, 1.0365306 ],\n",
       "       [0.02060752, 1.40795459],\n",
       "       [0.05159982, 1.06385873],\n",
       "       [0.0788263 , 0.91553576],\n",
       "       [0.07253333, 0.9418367 ],\n",
       "       [0.05299769, 1.05540988],\n",
       "       [0.09008554, 0.83042794],\n",
       "       [0.06551774, 0.97558986],\n",
       "       [0.04859901, 1.09475143],\n",
       "       [0.04969445, 1.08585449],\n",
       "       [0.03806316, 1.14723594],\n",
       "       [0.05868658, 1.01367107],\n",
       "       [0.07995186, 0.84540813],\n",
       "       [0.02331185, 1.16094784]])"
      ]
     },
     "execution_count": 11,
     "metadata": {},
     "output_type": "execute_result"
    }
   ],
   "source": [
    "output_CD_mat = np.array(output_CD_mat)\n",
    "output_CD_mat"
   ]
  },
  {
   "cell_type": "code",
   "execution_count": 12,
   "id": "12aa558a",
   "metadata": {},
   "outputs": [],
   "source": [
    "# Function to check if point1 dominates point2\n",
    "def dominates(point1, point2):\n",
    "    return all(p1 <= p2 for p1, p2 in zip(point1, point2)) and any(p1 < p2 for p1, p2 in zip(point1, point2))\n",
    "\n",
    "# Identify non-dominated points\n",
    "pareto_front = []\n",
    "for i, point1 in enumerate(output_CD_mat):\n",
    "    is_dominated = False\n",
    "    for j, point2 in enumerate(output_CD_mat):\n",
    "        if i != j and dominates(point2, point1):\n",
    "            is_dominated = True\n",
    "            break\n",
    "    if not is_dominated:\n",
    "        pareto_front.append(point1)\n",
    "\n",
    "# Unzip the pareto front for plotting\n",
    "x_pareto, y_pareto = zip(*pareto_front)"
   ]
  },
  {
   "cell_type": "code",
   "execution_count": 13,
   "id": "475872e2",
   "metadata": {},
   "outputs": [],
   "source": [
    "pareto_front = np.array(pareto_front)"
   ]
  },
  {
   "cell_type": "code",
   "execution_count": 14,
   "id": "7cd6234a",
   "metadata": {},
   "outputs": [
    {
     "name": "stdout",
     "output_type": "stream",
     "text": [
      "Hyper Volume ~ 0.780866\n"
     ]
    },
    {
     "data": {
      "image/png": "[encoded data removed]",
      "text/plain": [
       "<Figure size 640x480 with 1 Axes>"
      ]
     },
     "metadata": {},
     "output_type": "display_data"
    }
   ],
   "source": [
    "def plot_HV(F, ref):\n",
    "\n",
    "    #Plot the designs\n",
    "    plt.scatter(F[:,1],F[:,0], s=1)\n",
    "\n",
    "    #plot the reference point\n",
    "    plt.scatter(ref[1],ref[0],color=\"red\")\n",
    "\n",
    "    #plot labels\n",
    "    plt.xlabel('Material Use')\n",
    "    plt.ylabel('Chamfer Distance')\n",
    "\n",
    "    #sort designs and append reference point\n",
    "    sorted_performance = F[np.argsort(F[:,1])]\n",
    "    sorted_performance = np.concatenate([sorted_performance,[ref]])\n",
    "\n",
    "    #create \"ghost points\" for inner corners\n",
    "    inner_corners = np.stack([sorted_performance[:,0], np.roll(sorted_performance[:,1], -1)]).T\n",
    "\n",
    "    #Interleave designs and ghost points\n",
    "    final = np.empty((sorted_performance.shape[0]*2, 2))\n",
    "    final[::2,:] = sorted_performance\n",
    "    final[1::2,:] = inner_corners\n",
    "\n",
    "    #Create filled polygon\n",
    "    plt.fill(final[:,1],final[:,0],color=\"#008cff\",alpha=0.2)\n",
    "\n",
    "ref_point = np.array([0.1, 10])\n",
    "\n",
    "#Calculate Hypervolume\n",
    "ind = HV(ref_point)\n",
    "hypervolume = ind(pareto_front)\n",
    "\n",
    "#Print and plot\n",
    "print('Hyper Volume ~ %f' %(hypervolume))\n",
    "plot_HV(pareto_front, ref_point)"
   ]
  }
 ],
 "metadata": {
  "kernelspec": {
   "display_name": "Python 3 (ipykernel)",
   "language": "python",
   "name": "python3"
  },
  "language_info": {
   "codemirror_mode": {
    "name": "ipython",
    "version": 3
   },
   "file_extension": ".py",
   "mimetype": "text/x-python",
   "name": "python",
   "nbconvert_exporter": "python",
   "pygments_lexer": "ipython3",
   "version": "3.10.13"
  }
 },
 "nbformat": 4,
 "nbformat_minor": 5
}
